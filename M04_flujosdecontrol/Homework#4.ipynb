{
 "cells": [
  {
   "attachments": {},
   "cell_type": "markdown",
   "metadata": {},
   "source": [
    "## Flujos de Control"
   ]
  },
  {
   "attachments": {},
   "cell_type": "markdown",
   "metadata": {},
   "source": [
    "1) Crear una variable que contenga un elemento del conjunto de números enteros y luego imprimir por pantalla si es mayor o menor a cero"
   ]
  },
  {
   "cell_type": "code",
   "execution_count": 15,
   "metadata": {},
   "outputs": [
    {
     "name": "stdout",
     "output_type": "stream",
     "text": [
      "Es igual\n"
     ]
    }
   ],
   "source": [
    "x=5\n",
    "if x>5:\n",
    "    print(\"Es mayor\")\n",
    "elif x<5:\n",
    "    print(\"Es menor\")\n",
    "else:\n",
    "    print(\"Es igual\")"
   ]
  },
  {
   "attachments": {},
   "cell_type": "markdown",
   "metadata": {},
   "source": [
    "2) Crear dos variables y un condicional que informe si son del mismo tipo de dato"
   ]
  },
  {
   "cell_type": "code",
   "execution_count": 16,
   "metadata": {},
   "outputs": [
    {
     "name": "stdout",
     "output_type": "stream",
     "text": [
      "Son diferentes\n"
     ]
    }
   ],
   "source": [
    "x=1\n",
    "y=1,5\n",
    "if type(x)==type(y):\n",
    "    print(\"Son iguales\")\n",
    "else:\n",
    "    print(\"Son diferentes\")"
   ]
  },
  {
   "attachments": {},
   "cell_type": "markdown",
   "metadata": {},
   "source": [
    "3) Para los valores enteros del 1 al 20, imprimir por pantalla si es par o impar"
   ]
  },
  {
   "cell_type": "code",
   "execution_count": 18,
   "metadata": {},
   "outputs": [
    {
     "name": "stdout",
     "output_type": "stream",
     "text": [
      "1  Es impar\n",
      "2  Es par\n",
      "3  Es impar\n",
      "4  Es par\n",
      "5  Es impar\n",
      "6  Es par\n",
      "7  Es impar\n",
      "8  Es par\n",
      "9  Es impar\n",
      "10  Es par\n",
      "11  Es impar\n",
      "12  Es par\n",
      "13  Es impar\n",
      "14  Es par\n",
      "15  Es impar\n",
      "16  Es par\n",
      "17  Es impar\n",
      "18  Es par\n",
      "19  Es impar\n",
      "20  Es par\n"
     ]
    }
   ],
   "source": [
    "num=0\n",
    "for i in range(1,21):\n",
    "    num=i\n",
    "    if num%2==0:\n",
    "        print(num,\" Es par\")\n",
    "    else:\n",
    "        print(num,\" Es impar\")"
   ]
  },
  {
   "attachments": {},
   "cell_type": "markdown",
   "metadata": {},
   "source": [
    "4) En un ciclo for mostrar para los valores entre 0 y 5 el resultado de elevarlo a la potencia igual a 3"
   ]
  },
  {
   "cell_type": "code",
   "execution_count": 20,
   "metadata": {},
   "outputs": [
    {
     "name": "stdout",
     "output_type": "stream",
     "text": [
      "0  Eleado a 3 es=  0\n",
      "1  Eleado a 3 es=  1\n",
      "2  Eleado a 3 es=  8\n",
      "3  Eleado a 3 es=  27\n",
      "4  Eleado a 3 es=  64\n",
      "5  Eleado a 3 es=  125\n"
     ]
    }
   ],
   "source": [
    "for i in range(0,6):\n",
    "    print(i,\" Eleado a 3 es= \",i**3)"
   ]
  },
  {
   "attachments": {},
   "cell_type": "markdown",
   "metadata": {},
   "source": [
    "5) Crear una variable que contenga un número entero y realizar un ciclo for la misma cantidad de ciclos"
   ]
  },
  {
   "cell_type": "code",
   "execution_count": 26,
   "metadata": {},
   "outputs": [
    {
     "name": "stdout",
     "output_type": "stream",
     "text": [
      "10\n"
     ]
    }
   ],
   "source": [
    "x=10\n",
    "for i in range(x+1):\n",
    "    if i==x:\n",
    "        print(i)"
   ]
  },
  {
   "attachments": {},
   "cell_type": "markdown",
   "metadata": {},
   "source": [
    "6) Utilizar un ciclo while para realizar el factorial de un número guardado en una variable, sólo si la variable contiene un número entero mayor a 0"
   ]
  },
  {
   "cell_type": "code",
   "execution_count": 34,
   "metadata": {},
   "outputs": [
    {
     "name": "stdout",
     "output_type": "stream",
     "text": [
      "120\n"
     ]
    }
   ],
   "source": [
    "num=5\n",
    "ft=1\n",
    "i=0\n",
    "if type(num)==int:\n",
    "    if num>0:\n",
    "        x=num\n",
    "        while x>i:\n",
    "             i+=1\n",
    "             ft=ft*i\n",
    "        print(ft)\n",
    "    else:\n",
    "        print(\"No es mayor a 0\")\n",
    "else:\n",
    "    print(\"No es un entero\")\n"
   ]
  },
  {
   "attachments": {},
   "cell_type": "markdown",
   "metadata": {},
   "source": [
    "7) Crear un ciclo for dentro de un ciclo while"
   ]
  },
  {
   "cell_type": "code",
   "execution_count": 37,
   "metadata": {},
   "outputs": [
    {
     "name": "stdout",
     "output_type": "stream",
     "text": [
      "While Loop n  1\n",
      "For Loop n  1\n",
      "While Loop n  2\n",
      "For Loop n  1\n",
      "For Loop n  2\n",
      "While Loop n  3\n",
      "For Loop n  1\n",
      "For Loop n  2\n",
      "For Loop n  3\n",
      "While Loop n  4\n",
      "For Loop n  1\n",
      "For Loop n  2\n",
      "For Loop n  3\n",
      "For Loop n  4\n"
     ]
    }
   ],
   "source": [
    "x=1\n",
    "while x<5:\n",
    "    print(\"While Loop n \",x)\n",
    "    for i in range(1,x+1):\n",
    "        print(\"For Loop n \",i)\n",
    "    x+=1"
   ]
  },
  {
   "attachments": {},
   "cell_type": "markdown",
   "metadata": {},
   "source": [
    "8) Crear un ciclo while dentro de un ciclo for"
   ]
  },
  {
   "cell_type": "code",
   "execution_count": 41,
   "metadata": {},
   "outputs": [
    {
     "name": "stdout",
     "output_type": "stream",
     "text": [
      "For Loop n  1\n",
      "While Loop n  1\n",
      "For Loop n  2\n",
      "While Loop n  1\n",
      "While Loop n  2\n",
      "For Loop n  3\n",
      "While Loop n  1\n",
      "While Loop n  2\n",
      "While Loop n  3\n",
      "For Loop n  4\n",
      "While Loop n  1\n",
      "While Loop n  2\n",
      "While Loop n  3\n",
      "While Loop n  4\n",
      "For Loop n  5\n",
      "While Loop n  1\n",
      "While Loop n  2\n",
      "While Loop n  3\n",
      "While Loop n  4\n",
      "While Loop n  5\n"
     ]
    }
   ],
   "source": [
    "x=5\n",
    "for i in range(1,x+1):\n",
    "    print(\"For Loop n \",i)\n",
    "    j=0\n",
    "    while i>j:\n",
    "        j+=1\n",
    "        print(\"While Loop n \",j)"
   ]
  },
  {
   "attachments": {},
   "cell_type": "markdown",
   "metadata": {},
   "source": [
    "9) Imprimir los números primos existentes entre 0 y 30"
   ]
  },
  {
   "cell_type": "code",
   "execution_count": 47,
   "metadata": {},
   "outputs": [
    {
     "name": "stdout",
     "output_type": "stream",
     "text": [
      "0  Es un numero primo\n",
      "1  Es un numero primo\n",
      "2  Es un numero primo\n",
      "3  Es un numero primo\n",
      "5  Es un numero primo\n",
      "7  Es un numero primo\n",
      "11  Es un numero primo\n",
      "13  Es un numero primo\n",
      "17  Es un numero primo\n",
      "19  Es un numero primo\n",
      "23  Es un numero primo\n",
      "29  Es un numero primo\n"
     ]
    }
   ],
   "source": [
    "count=0\n",
    "for i in range(0,31):\n",
    "    count=0\n",
    "    for j in range(1,i+1):\n",
    "        if i%j==0:\n",
    "            count+=1\n",
    "    if count<=2:\n",
    "        print(i,\" Es un numero primo\")\n",
    "    else:\n",
    "        pass"
   ]
  },
  {
   "attachments": {},
   "cell_type": "markdown",
   "metadata": {},
   "source": [
    "10) ¿Se puede mejorar el proceso del punto 9? Utilizar las sentencias break y/ó continue para tal fin"
   ]
  },
  {
   "cell_type": "code",
   "execution_count": 51,
   "metadata": {},
   "outputs": [
    {
     "name": "stdout",
     "output_type": "stream",
     "text": [
      "0  Es un numero primo\n",
      "1  Es un numero primo\n",
      "2  Es un numero primo\n",
      "3  Es un numero primo\n",
      "5  Es un numero primo\n",
      "7  Es un numero primo\n",
      "11  Es un numero primo\n",
      "13  Es un numero primo\n",
      "17  Es un numero primo\n",
      "19  Es un numero primo\n",
      "23  Es un numero primo\n",
      "29  Es un numero primo\n"
     ]
    }
   ],
   "source": [
    "count=0\n",
    "for i in range(0,31):\n",
    "    count=0\n",
    "    for j in range(1,i+1):\n",
    "        if i%j==0:\n",
    "            count+=1\n",
    "            if count>2:\n",
    "                if i!=j:\n",
    "                    break\n",
    "    if count<=2:\n",
    "        print(i,\" Es un numero primo\")\n",
    "    else:\n",
    "        continue"
   ]
  },
  {
   "attachments": {},
   "cell_type": "markdown",
   "metadata": {},
   "source": [
    "11) En los puntos 9 y 10, se diseño un código que encuentra números primos y además se lo optimizó. ¿Es posible saber en qué medida se optimizó?"
   ]
  },
  {
   "cell_type": "code",
   "execution_count": 52,
   "metadata": {},
   "outputs": [
    {
     "name": "stdout",
     "output_type": "stream",
     "text": [
      "0  Es un numero primo\n",
      "1  Es un numero primo\n",
      "2  Es un numero primo\n",
      "3  Es un numero primo\n",
      "5  Es un numero primo\n",
      "7  Es un numero primo\n",
      "11  Es un numero primo\n",
      "13  Es un numero primo\n",
      "17  Es un numero primo\n",
      "19  Es un numero primo\n",
      "23  Es un numero primo\n",
      "29  Es un numero primo\n",
      "El programa se ejecuta0  465  veces\n"
     ]
    }
   ],
   "source": [
    "count=0\n",
    "count2=0\n",
    "for i in range(0,31):\n",
    "    count=0\n",
    "    for j in range(1,i+1):\n",
    "        count2+=1\n",
    "        if i%j==0:\n",
    "            count+=1\n",
    "    if count<=2:\n",
    "        print(i,\" Es un numero primo\")\n",
    "    else:\n",
    "        pass\n",
    "print(\"El programa se ejecuta0 \",count2,\" veces\")"
   ]
  },
  {
   "cell_type": "code",
   "execution_count": 53,
   "metadata": {},
   "outputs": [
    {
     "name": "stdout",
     "output_type": "stream",
     "text": [
      "0  Es un numero primo\n",
      "1  Es un numero primo\n",
      "2  Es un numero primo\n",
      "3  Es un numero primo\n",
      "5  Es un numero primo\n",
      "7  Es un numero primo\n",
      "11  Es un numero primo\n",
      "13  Es un numero primo\n",
      "17  Es un numero primo\n",
      "19  Es un numero primo\n",
      "23  Es un numero primo\n",
      "29  Es un numero primo\n",
      "El programa se ejecuto  256  veces\n"
     ]
    }
   ],
   "source": [
    "count=0\n",
    "count2=0\n",
    "for i in range(0,31):\n",
    "    count=0\n",
    "    for j in range(1,i+1):\n",
    "        count2+=1\n",
    "        if i%j==0:\n",
    "            count+=1\n",
    "            if count>2:\n",
    "                if i!=j:\n",
    "                    break\n",
    "    if count<=2:\n",
    "        print(i,\" Es un numero primo\")\n",
    "    else:\n",
    "        continue\n",
    "print(\"El programa se ejecuto \",count2,\" veces\")"
   ]
  },
  {
   "attachments": {},
   "cell_type": "markdown",
   "metadata": {},
   "source": [
    "12) Aplicando continue, armar un ciclo while que solo imprima los valores divisibles por 12, dentro del rango de números de 100 a 300"
   ]
  },
  {
   "cell_type": "code",
   "execution_count": 58,
   "metadata": {},
   "outputs": [
    {
     "name": "stdout",
     "output_type": "stream",
     "text": [
      "108\n",
      "120\n",
      "132\n",
      "144\n",
      "156\n",
      "168\n",
      "180\n",
      "192\n",
      "204\n",
      "216\n",
      "228\n",
      "240\n",
      "252\n",
      "264\n",
      "276\n",
      "288\n",
      "300\n"
     ]
    }
   ],
   "source": [
    "x=100\n",
    "while x<=300:\n",
    "    x+=1\n",
    "    if x%12!=0:\n",
    "        continue\n",
    "    print(x)"
   ]
  },
  {
   "attachments": {},
   "cell_type": "markdown",
   "metadata": {},
   "source": [
    "13) Utilizar la función **input()** que permite hacer ingresos por teclado, para encontrar números primos y dar la opción al usario de buscar el siguiente"
   ]
  },
  {
   "cell_type": "code",
   "execution_count": 9,
   "metadata": {},
   "outputs": [
    {
     "name": "stdout",
     "output_type": "stream",
     "text": [
      "0  Es un numero primo\n",
      "Desea continuar\n",
      "1) Si\n",
      "2) No\n",
      "1  Es un numero primo\n",
      "Desea continuar\n",
      "1) Si\n",
      "2) No\n",
      "2  Es un numero primo\n",
      "Desea continuar\n",
      "1) Si\n",
      "2) No\n",
      "3  Es un numero primo\n",
      "Desea continuar\n",
      "1) Si\n",
      "2) No\n",
      "5  Es un numero primo\n",
      "Desea continuar\n",
      "1) Si\n",
      "2) No\n",
      "7  Es un numero primo\n",
      "Desea continuar\n",
      "1) Si\n",
      "2) No\n",
      "11  Es un numero primo\n",
      "Desea continuar\n",
      "1) Si\n",
      "2) No\n",
      "13  Es un numero primo\n",
      "Desea continuar\n",
      "1) Si\n",
      "2) No\n",
      "17  Es un numero primo\n",
      "Desea continuar\n",
      "1) Si\n",
      "2) No\n",
      "19  Es un numero primo\n",
      "Desea continuar\n",
      "1) Si\n",
      "2) No\n",
      "El proceso ha finalizado\n"
     ]
    }
   ],
   "source": [
    "next=1\n",
    "count=0\n",
    "i=-1\n",
    "while next==1:\n",
    "    i+=1\n",
    "    count=0\n",
    "    for j in range(1,i+1):\n",
    "        if i%j==0:\n",
    "            count+=1\n",
    "    if count<=2:\n",
    "        print(i,\" Es un numero primo\")\n",
    "        print(\"Desea continuar\\n1) Si\\n2) No\")\n",
    "        if input()!='1':\n",
    "          next=0\n",
    "          print(\"El proceso ha finalizado\")    \n"
   ]
  },
  {
   "attachments": {},
   "cell_type": "markdown",
   "metadata": {},
   "source": [
    "14) Crear un ciclo while que encuentre dentro del rango de 100 a 300 el primer número divisible por 3 y además múltiplo de 6"
   ]
  },
  {
   "cell_type": "code",
   "execution_count": 26,
   "metadata": {},
   "outputs": [
    {
     "name": "stdout",
     "output_type": "stream",
     "text": [
      "102  Es un numero divisible por 3 y multiplo de 6\n"
     ]
    }
   ],
   "source": [
    "x=99\n",
    "while x<=300:\n",
    "    if x%3==0 and x%6==0:\n",
    "        print(x,\" Es un numero divisible por 3 y multiplo de 6\")\n",
    "        break\n",
    "    x+=1"
   ]
  }
 ],
 "metadata": {
  "interpreter": {
   "hash": "c85384e4cb51c8b72350f3a8712cc8351fdc3955e32a27f9b60c6242ab125f01"
  },
  "kernelspec": {
   "display_name": "Python 3 (ipykernel)",
   "language": "python",
   "name": "python3"
  },
  "language_info": {
   "codemirror_mode": {
    "name": "ipython",
    "version": 3
   },
   "file_extension": ".py",
   "mimetype": "text/x-python",
   "name": "python",
   "nbconvert_exporter": "python",
   "pygments_lexer": "ipython3",
   "version": "3.12.1"
  }
 },
 "nbformat": 4,
 "nbformat_minor": 4
}
